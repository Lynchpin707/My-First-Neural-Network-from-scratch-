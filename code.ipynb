{
 "cells": [
  {
   "cell_type": "code",
   "execution_count": 13,
   "id": "89d74192",
   "metadata": {},
   "outputs": [],
   "source": [
    "import numpy as np\n",
    "import pandas as pd\n",
    "from matplotlib import pyplot as plt\n",
    "data=pd.read_csv(\"digit-recognizer/train.csv\")"
   ]
  },
  {
   "cell_type": "code",
   "execution_count": 14,
   "id": "290284dc",
   "metadata": {},
   "outputs": [
    {
     "data": {
      "text/plain": [
       "(42000, 785)"
      ]
     },
     "execution_count": 14,
     "metadata": {},
     "output_type": "execute_result"
    }
   ],
   "source": [
    "data_train.shape\n"
   ]
  },
  {
   "cell_type": "code",
   "execution_count": 15,
   "id": "b1692cb8",
   "metadata": {},
   "outputs": [
    {
     "data": {
      "text/plain": [
       "(28000, 784)"
      ]
     },
     "execution_count": 15,
     "metadata": {},
     "output_type": "execute_result"
    }
   ],
   "source": [
    "data_test.shape"
   ]
  },
  {
   "cell_type": "code",
   "execution_count": 16,
   "id": "8edb6c2c",
   "metadata": {},
   "outputs": [],
   "source": [
    "data = np.array(data)\n",
    "m,n=data.shape\n",
    "np.random.shuffle(data)\n",
    "\n",
    "data_dev = data[0:1000].T\n",
    "Y_dev=data_dev[0]\n",
    "X_dev=data_dev[1:n]\n",
    "X_dev = X_dev / 255\n",
    "\n",
    "data_train = data[1000:m].T\n",
    "Y_train=data_train[0]\n",
    "X_train=data_train[1:n]\n",
    "X_train = X_train / 255.\n",
    "_,m_train = X_train.shape"
   ]
  },
  {
   "cell_type": "code",
   "execution_count": 21,
   "id": "acd1f2a0",
   "metadata": {},
   "outputs": [],
   "source": [
    "def init_params():\n",
    "    W1 = np.random.rand(10,784) - 0.5\n",
    "    b1 = np.random.rand(10, 1) - 0.5\n",
    "    W2 = np.random.rand(10,10) - 0.5\n",
    "    b2 = np.random.rand(10, 1) - 0.5\n",
    "    return W1, b1, W2, b2\n",
    "\n",
    "def ReLU(Z):\n",
    "    return np.maximum(0,Z)\n",
    "\n",
    "def deriv_ReLU(Z):\n",
    "    return Z>0\n",
    "\n",
    "def softmax(Z):\n",
    "    expZ = np.exp(Z - np.max(Z, axis=0, keepdims=True))\n",
    "    return expZ / np.sum(expZ, axis=0, keepdims=True)\n",
    "\n",
    "def forward_prop(W1, b1, W2, b2, X):\n",
    "    Z1 = W1.dot(X) + b1\n",
    "    A1 = ReLU(Z1)\n",
    "    Z2= W2.dot(A1)+b2\n",
    "    A2= softmax(Z2)\n",
    "    return Z1,A1,Z2,A2\n",
    "\n",
    "def one_hot(Y):\n",
    "    one_hot_Y = np.zeros((Y.size,Y.max()+1))\n",
    "    one_hot_Y[np.arange(Y.size),Y]=1\n",
    "    one_hot_Y = one_hot_Y.T\n",
    "    return one_hot_Y\n",
    "\n",
    "def back_prop(Z1,A1,Z2,A2,W1,W2,X,Y, m):\n",
    "    one_hot_Y=one_hot(Y)\n",
    "    dZ2 = A2 - one_hot_Y\n",
    "    dW2 = (1/m) * dZ2.dot(A1.T)\n",
    "    db2 = (1/m)*np.sum(dZ2)\n",
    "    dZ1 = W2.T.dot(dZ2)*deriv_ReLU(Z1)\n",
    "    dW1= (1/m)*dZ1.dot(X.T)\n",
    "    db1 = (1/m)*np.sum(dZ1)\n",
    "    return dW1,db1,dW2,db2\n",
    "\n",
    "def update_params(W1,b1,W2,b2,dW1,db1, dW2 ,db2,alpha):\n",
    "    W1 = W1 - alpha*dW1\n",
    "    b1 = b1 - alpha*db1\n",
    "    W2 = W2 - alpha*dW2\n",
    "    b2 = b2 - alpha*db2\n",
    "    return W1, b1, W2, b2\n",
    "\n",
    "def get_predictions(A2):\n",
    "    return np.argmax(A2,0)\n",
    "def get_accuracy(predictions,Y):\n",
    "    #print(predictions,Y)\n",
    "    return np.sum(predictions == Y)/Y.size\n",
    "    \n",
    "\n",
    "def gradient_descent(X,Y,iterations,alpha):\n",
    "    W1, b1, W2, b2 = init_params()\n",
    "    m = X.shape[1]\n",
    "    for i in range(iterations):\n",
    "        Z1,A1,Z2,A2 = forward_prop(W1, b1, W2, b2,X)\n",
    "        dW1,db1,dW2,db2 = back_prop(Z1,A1,Z2,A2,W1,W2,X,Y, m) \n",
    "        W1, b1, W2, b2 = update_params(W1,b1,W2,b2,dW1,db1, dW2 ,db2,alpha)\n",
    "        if i%10 == 0:\n",
    "            print(\"Iteration :\",i)\n",
    "            predictions=get_predictions(A2)\n",
    "            print(\"Accuracy: \",get_accuracy(predictions,Y))\n",
    "    return W1, b1, W2, b2"
   ]
  },
  {
   "cell_type": "code",
   "execution_count": 22,
   "id": "a271dd6e",
   "metadata": {},
   "outputs": [
    {
     "name": "stdout",
     "output_type": "stream",
     "text": [
      "Iteration : 0\n",
      "Accuracy:  0.10256097560975609\n",
      "Iteration : 10\n",
      "Accuracy:  0.15336585365853658\n",
      "Iteration : 20\n",
      "Accuracy:  0.19602439024390245\n",
      "Iteration : 30\n",
      "Accuracy:  0.25795121951219513\n",
      "Iteration : 40\n",
      "Accuracy:  0.3385609756097561\n",
      "Iteration : 50\n",
      "Accuracy:  0.42078048780487803\n",
      "Iteration : 60\n",
      "Accuracy:  0.4879512195121951\n",
      "Iteration : 70\n",
      "Accuracy:  0.5380243902439025\n",
      "Iteration : 80\n",
      "Accuracy:  0.577170731707317\n",
      "Iteration : 90\n",
      "Accuracy:  0.6102682926829268\n",
      "Iteration : 100\n",
      "Accuracy:  0.635219512195122\n",
      "Iteration : 110\n",
      "Accuracy:  0.6559024390243903\n",
      "Iteration : 120\n",
      "Accuracy:  0.6724878048780488\n",
      "Iteration : 130\n",
      "Accuracy:  0.6882682926829268\n",
      "Iteration : 140\n",
      "Accuracy:  0.7010731707317073\n",
      "Iteration : 150\n",
      "Accuracy:  0.7130243902439024\n",
      "Iteration : 160\n",
      "Accuracy:  0.7235853658536585\n",
      "Iteration : 170\n",
      "Accuracy:  0.7328780487804878\n",
      "Iteration : 180\n",
      "Accuracy:  0.7409512195121951\n",
      "Iteration : 190\n",
      "Accuracy:  0.7480243902439024\n",
      "Iteration : 200\n",
      "Accuracy:  0.7557317073170732\n",
      "Iteration : 210\n",
      "Accuracy:  0.7618780487804878\n",
      "Iteration : 220\n",
      "Accuracy:  0.7678292682926829\n",
      "Iteration : 230\n",
      "Accuracy:  0.7739268292682927\n",
      "Iteration : 240\n",
      "Accuracy:  0.7793658536585366\n",
      "Iteration : 250\n",
      "Accuracy:  0.7842926829268293\n",
      "Iteration : 260\n",
      "Accuracy:  0.789219512195122\n",
      "Iteration : 270\n",
      "Accuracy:  0.7934634146341464\n",
      "Iteration : 280\n",
      "Accuracy:  0.7974878048780488\n",
      "Iteration : 290\n",
      "Accuracy:  0.8014634146341464\n",
      "Iteration : 300\n",
      "Accuracy:  0.8060243902439025\n",
      "Iteration : 310\n",
      "Accuracy:  0.8099268292682927\n",
      "Iteration : 320\n",
      "Accuracy:  0.8136585365853658\n",
      "Iteration : 330\n",
      "Accuracy:  0.8168536585365853\n",
      "Iteration : 340\n",
      "Accuracy:  0.8198048780487804\n",
      "Iteration : 350\n",
      "Accuracy:  0.8230731707317073\n",
      "Iteration : 360\n",
      "Accuracy:  0.8265365853658536\n",
      "Iteration : 370\n",
      "Accuracy:  0.8295365853658536\n",
      "Iteration : 380\n",
      "Accuracy:  0.8320731707317073\n",
      "Iteration : 390\n",
      "Accuracy:  0.8351951219512195\n",
      "Iteration : 400\n",
      "Accuracy:  0.8374390243902439\n",
      "Iteration : 410\n",
      "Accuracy:  0.8397317073170731\n",
      "Iteration : 420\n",
      "Accuracy:  0.8418292682926829\n",
      "Iteration : 430\n",
      "Accuracy:  0.8442195121951219\n",
      "Iteration : 440\n",
      "Accuracy:  0.8460487804878049\n",
      "Iteration : 450\n",
      "Accuracy:  0.848\n",
      "Iteration : 460\n",
      "Accuracy:  0.8501463414634146\n",
      "Iteration : 470\n",
      "Accuracy:  0.8517317073170732\n",
      "Iteration : 480\n",
      "Accuracy:  0.8528536585365853\n",
      "Iteration : 490\n",
      "Accuracy:  0.8543658536585366\n",
      "Iteration : 500\n",
      "Accuracy:  0.8555365853658536\n",
      "Iteration : 510\n",
      "Accuracy:  0.8572439024390244\n",
      "Iteration : 520\n",
      "Accuracy:  0.8584634146341463\n",
      "Iteration : 530\n",
      "Accuracy:  0.859780487804878\n",
      "Iteration : 540\n",
      "Accuracy:  0.8608536585365854\n",
      "Iteration : 550\n",
      "Accuracy:  0.8622439024390244\n",
      "Iteration : 560\n",
      "Accuracy:  0.863390243902439\n",
      "Iteration : 570\n",
      "Accuracy:  0.8641463414634146\n",
      "Iteration : 580\n",
      "Accuracy:  0.8650731707317073\n",
      "Iteration : 590\n",
      "Accuracy:  0.8661463414634146\n",
      "Iteration : 600\n",
      "Accuracy:  0.8670243902439024\n",
      "Iteration : 610\n",
      "Accuracy:  0.8682682926829268\n",
      "Iteration : 620\n",
      "Accuracy:  0.8693658536585366\n",
      "Iteration : 630\n",
      "Accuracy:  0.870609756097561\n",
      "Iteration : 640\n",
      "Accuracy:  0.8713658536585366\n",
      "Iteration : 650\n",
      "Accuracy:  0.8718780487804878\n",
      "Iteration : 660\n",
      "Accuracy:  0.8723658536585366\n",
      "Iteration : 670\n",
      "Accuracy:  0.8732682926829268\n",
      "Iteration : 680\n",
      "Accuracy:  0.8739268292682927\n",
      "Iteration : 690\n",
      "Accuracy:  0.8748048780487805\n",
      "Iteration : 700\n",
      "Accuracy:  0.8753414634146341\n",
      "Iteration : 710\n",
      "Accuracy:  0.8763170731707317\n",
      "Iteration : 720\n",
      "Accuracy:  0.8768048780487805\n",
      "Iteration : 730\n",
      "Accuracy:  0.8775365853658537\n",
      "Iteration : 740\n",
      "Accuracy:  0.8779756097560976\n",
      "Iteration : 750\n",
      "Accuracy:  0.8785365853658537\n",
      "Iteration : 760\n",
      "Accuracy:  0.8792439024390244\n",
      "Iteration : 770\n",
      "Accuracy:  0.88\n",
      "Iteration : 780\n",
      "Accuracy:  0.8804390243902439\n",
      "Iteration : 790\n",
      "Accuracy:  0.8808780487804878\n",
      "Iteration : 800\n",
      "Accuracy:  0.8813170731707317\n",
      "Iteration : 810\n",
      "Accuracy:  0.8818048780487805\n",
      "Iteration : 820\n",
      "Accuracy:  0.8821951219512195\n",
      "Iteration : 830\n",
      "Accuracy:  0.882609756097561\n",
      "Iteration : 840\n",
      "Accuracy:  0.8830731707317073\n",
      "Iteration : 850\n",
      "Accuracy:  0.8834390243902439\n",
      "Iteration : 860\n",
      "Accuracy:  0.8838536585365854\n",
      "Iteration : 870\n",
      "Accuracy:  0.8841951219512195\n",
      "Iteration : 880\n",
      "Accuracy:  0.8845365853658537\n",
      "Iteration : 890\n",
      "Accuracy:  0.8849512195121951\n",
      "Iteration : 900\n",
      "Accuracy:  0.8853414634146342\n",
      "Iteration : 910\n",
      "Accuracy:  0.8857317073170732\n",
      "Iteration : 920\n",
      "Accuracy:  0.8861463414634146\n",
      "Iteration : 930\n",
      "Accuracy:  0.8866585365853659\n",
      "Iteration : 940\n",
      "Accuracy:  0.8868780487804878\n",
      "Iteration : 950\n",
      "Accuracy:  0.8872439024390244\n",
      "Iteration : 960\n",
      "Accuracy:  0.8875853658536585\n",
      "Iteration : 970\n",
      "Accuracy:  0.8881951219512195\n",
      "Iteration : 980\n",
      "Accuracy:  0.8885121951219512\n",
      "Iteration : 990\n",
      "Accuracy:  0.8888292682926829\n"
     ]
    }
   ],
   "source": [
    "W1, b1, W2, b2 = gradient_descent(X_train,Y_train,1000,0.1)"
   ]
  },
  {
   "cell_type": "code",
   "execution_count": 23,
   "id": "7bc6e090",
   "metadata": {},
   "outputs": [],
   "source": [
    "def make_predictions(X, W1, b1, W2, b2):\n",
    "    _, _, _, A2 = forward_prop(W1, b1, W2, b2, X)\n",
    "    predictions = get_predictions(A2)\n",
    "    return predictions\n",
    "\n",
    "def test_prediction(index, W1, b1, W2, b2):\n",
    "    current_image = X_train[:, index, None]\n",
    "    prediction = make_predictions(X_train[:, index, None], W1, b1, W2, b2)\n",
    "    label = Y_train[index]\n",
    "    print(\"Prediction: \", prediction)\n",
    "    print(\"Label: \", label)\n",
    "    \n",
    "    current_image = current_image.reshape((28, 28)) * 255\n",
    "    plt.gray()\n",
    "    plt.imshow(current_image, interpolation='nearest')\n",
    "    plt.show()\n"
   ]
  },
  {
   "cell_type": "code",
   "execution_count": null,
   "id": "f07f17b9",
   "metadata": {},
   "outputs": [
    {
     "name": "stdout",
     "output_type": "stream",
     "text": [
      "Prediction:  [1]\n",
      "Label:  1\n"
     ]
    },
    {
     "data": {
      "image/png": "[encoded data removed]",
      "text/plain": [
       "<Figure size 432x288 with 1 Axes>"
      ]
     },
     "metadata": {
      "needs_background": "light"
     },
     "output_type": "display_data"
    },
    {
     "name": "stdout",
     "output_type": "stream",
     "text": [
      "Prediction:  [9]\n",
      "Label:  5\n"
     ]
    },
    {
     "data": {
      "image/png": "[encoded data removed]",
      "text/plain": [
       "<Figure size 432x288 with 1 Axes>"
      ]
     },
     "metadata": {
      "needs_background": "light"
     },
     "output_type": "display_data"
    },
    {
     "name": "stdout",
     "output_type": "stream",
     "text": [
      "Prediction:  [3]\n",
      "Label:  3\n"
     ]
    },
    {
     "data": {
      "image/png": "[encoded data removed]",
      "text/plain": [
       "<Figure size 432x288 with 1 Axes>"
      ]
     },
     "metadata": {
      "needs_background": "light"
     },
     "output_type": "display_data"
    },
    {
     "name": "stdout",
     "output_type": "stream",
     "text": [
      "Prediction:  [5]\n",
      "Label:  5\n"
     ]
    },
    {
     "data": {
      "image/png": "[encoded data removed]",
      "text/plain": [
       "<Figure size 432x288 with 1 Axes>"
      ]
     },
     "metadata": {
      "needs_background": "light"
     },
     "output_type": "display_data"
    },
    {
     "name": "stdout",
     "output_type": "stream",
     "text": [
      "Prediction:  [1]\n",
      "Label:  1\n"
     ]
    },
    {
     "data": {
      "image/png": "[encoded data removed]",
      "text/plain": [
       "<Figure size 432x288 with 1 Axes>"
      ]
     },
     "metadata": {
      "needs_background": "light"
     },
     "output_type": "display_data"
    },
    {
     "name": "stdout",
     "output_type": "stream",
     "text": [
      "Prediction:  [9]\n",
      "Label:  5\n"
     ]
    },
    {
     "data": {
      "image/png": "[encoded data removed]",
      "text/plain": [
       "<Figure size 432x288 with 1 Axes>"
      ]
     },
     "metadata": {
      "needs_background": "light"
     },
     "output_type": "display_data"
    },
    {
     "name": "stdout",
     "output_type": "stream",
     "text": [
      "Prediction:  [3]\n",
      "Label:  3\n"
     ]
    },
    {
     "data": {
      "image/png": "[encoded data removed]",
      "text/plain": [
       "<Figure size 432x288 with 1 Axes>"
      ]
     },
     "metadata": {
      "needs_background": "light"
     },
     "output_type": "display_data"
    },
    {
     "name": "stdout",
     "output_type": "stream",
     "text": [
      "Prediction:  [5]\n",
      "Label:  5\n"
     ]
    },
    {
     "data": {
      "image/png": "[encoded data removed]",
      "text/plain": [
       "<Figure size 432x288 with 1 Axes>"
      ]
     },
     "metadata": {
      "needs_background": "light"
     },
     "output_type": "display_data"
    },
    {
     "name": "stdout",
     "output_type": "stream",
     "text": [
      "Prediction:  [1]\n",
      "Label:  1\n"
     ]
    },
    {
     "data": {
      "image/png": "[encoded data removed]",
      "text/plain": [
       "<Figure size 432x288 with 1 Axes>"
      ]
     },
     "metadata": {
      "needs_background": "light"
     },
     "output_type": "display_data"
    },
    {
     "name": "stdout",
     "output_type": "stream",
     "text": [
      "Prediction:  [9]\n",
      "Label:  5\n"
     ]
    },
    {
     "data": {
      "image/png": "[encoded data removed]",
      "text/plain": [
       "<Figure size 432x288 with 1 Axes>"
      ]
     },
     "metadata": {
      "needs_background": "light"
     },
     "output_type": "display_data"
    },
    {
     "name": "stdout",
     "output_type": "stream",
     "text": [
      "Prediction:  [3]\n",
      "Label:  3\n"
     ]
    },
    {
     "data": {
      "image/png": "[encoded data removed]",
      "text/plain": [
       "<Figure size 432x288 with 1 Axes>"
      ]
     },
     "metadata": {
      "needs_background": "light"
     },
     "output_type": "display_data"
    },
    {
     "name": "stdout",
     "output_type": "stream",
     "text": [
      "Prediction:  [5]\n",
      "Label:  5\n"
     ]
    },
    {
     "data": {
      "image/png": "[encoded data removed]",
      "text/plain": [
       "<Figure size 432x288 with 1 Axes>"
      ]
     },
     "metadata": {
      "needs_background": "light"
     },
     "output_type": "display_data"
    },
    {
     "name": "stdout",
     "output_type": "stream",
     "text": [
      "Prediction:  [1]\n",
      "Label:  1\n"
     ]
    },
    {
     "data": {
      "image/png": "[encoded data removed]",
      "text/plain": [
       "<Figure size 432x288 with 1 Axes>"
      ]
     },
     "metadata": {
      "needs_background": "light"
     },
     "output_type": "display_data"
    },
    {
     "name": "stdout",
     "output_type": "stream",
     "text": [
      "Prediction:  [9]\n",
      "Label:  5\n"
     ]
    },
    {
     "data": {
      "image/png": "[encoded data removed]",
      "text/plain": [
       "<Figure size 432x288 with 1 Axes>"
      ]
     },
     "metadata": {
      "needs_background": "light"
     },
     "output_type": "display_data"
    },
    {
     "name": "stdout",
     "output_type": "stream",
     "text": [
      "Prediction:  [3]\n",
      "Label:  3\n"
     ]
    },
    {
     "data": {
      "image/png": "[encoded data removed]",
      "text/plain": [
       "<Figure size 432x288 with 1 Axes>"
      ]
     },
     "metadata": {
      "needs_background": "light"
     },
     "output_type": "display_data"
    },
    {
     "name": "stdout",
     "output_type": "stream",
     "text": [
      "Prediction:  [5]\n",
      "Label:  5\n"
     ]
    },
    {
     "data": {
      "image/png": "[encoded data removed]",
      "text/plain": [
       "<Figure size 432x288 with 1 Axes>"
      ]
     },
     "metadata": {
      "needs_background": "light"
     },
     "output_type": "display_data"
    },
    {
     "name": "stdout",
     "output_type": "stream",
     "text": [
      "Prediction:  [1]\n",
      "Label:  1\n"
     ]
    },
    {
     "data": {
      "image/png": "[encoded data removed]",
      "text/plain": [
       "<Figure size 432x288 with 1 Axes>"
      ]
     },
     "metadata": {
      "needs_background": "light"
     },
     "output_type": "display_data"
    },
    {
     "name": "stdout",
     "output_type": "stream",
     "text": [
      "Prediction:  [9]\n",
      "Label:  5\n"
     ]
    },
    {
     "data": {
      "image/png": "[encoded data removed]",
      "text/plain": [
       "<Figure size 432x288 with 1 Axes>"
      ]
     },
     "metadata": {
      "needs_background": "light"
     },
     "output_type": "display_data"
    },
    {
     "name": "stdout",
     "output_type": "stream",
     "text": [
      "Prediction:  [3]\n",
      "Label:  3\n"
     ]
    },
    {
     "data": {
      "image/png": "[encoded data removed]",
      "text/plain": [
       "<Figure size 432x288 with 1 Axes>"
      ]
     },
     "metadata": {
      "needs_background": "light"
     },
     "output_type": "display_data"
    },
    {
     "name": "stdout",
     "output_type": "stream",
     "text": [
      "Prediction:  [5]\n",
      "Label:  5\n"
     ]
    },
    {
     "data": {
      "image/png": "[encoded data removed]",
      "text/plain": [
       "<Figure size 432x288 with 1 Axes>"
      ]
     },
     "metadata": {
      "needs_background": "light"
     },
     "output_type": "display_data"
    },
    {
     "name": "stdout",
     "output_type": "stream",
     "text": [
      "Prediction:  [1]\n",
      "Label:  1\n"
     ]
    },
    {
     "data": {
      "image/png": "[encoded data removed]",
      "text/plain": [
       "<Figure size 432x288 with 1 Axes>"
      ]
     },
     "metadata": {
      "needs_background": "light"
     },
     "output_type": "display_data"
    },
    {
     "name": "stdout",
     "output_type": "stream",
     "text": [
      "Prediction:  [9]\n",
      "Label:  5\n"
     ]
    },
    {
     "data": {
      "image/png": "[encoded data removed]",
      "text/plain": [
       "<Figure size 432x288 with 1 Axes>"
      ]
     },
     "metadata": {
      "needs_background": "light"
     },
     "output_type": "display_data"
    },
    {
     "name": "stdout",
     "output_type": "stream",
     "text": [
      "Prediction:  [3]\n",
      "Label:  3\n"
     ]
    },
    {
     "data": {
      "image/png": "[encoded data removed]",
      "text/plain": [
       "<Figure size 432x288 with 1 Axes>"
      ]
     },
     "metadata": {
      "needs_background": "light"
     },
     "output_type": "display_data"
    },
    {
     "name": "stdout",
     "output_type": "stream",
     "text": [
      "Prediction:  [5]\n",
      "Label:  5\n"
     ]
    },
    {
     "data": {
      "image/png": "[encoded data removed]",
      "text/plain": [
       "<Figure size 432x288 with 1 Axes>"
      ]
     },
     "metadata": {
      "needs_background": "light"
     },
     "output_type": "display_data"
    },
    {
     "name": "stdout",
     "output_type": "stream",
     "text": [
      "Prediction:  [1]\n",
      "Label:  1\n"
     ]
    },
    {
     "data": {
      "image/png": "[encoded data removed]",
      "text/plain": [
       "<Figure size 432x288 with 1 Axes>"
      ]
     },
     "metadata": {
      "needs_background": "light"
     },
     "output_type": "display_data"
    },
    {
     "name": "stdout",
     "output_type": "stream",
     "text": [
      "Prediction:  [9]\n",
      "Label:  5\n"
     ]
    },
    {
     "data": {
      "image/png": "[encoded data removed]",
      "text/plain": [
       "<Figure size 432x288 with 1 Axes>"
      ]
     },
     "metadata": {
      "needs_background": "light"
     },
     "output_type": "display_data"
    },
    {
     "name": "stdout",
     "output_type": "stream",
     "text": [
      "Prediction:  [3]\n",
      "Label:  3\n"
     ]
    },
    {
     "data": {
      "image/png": "[encoded data removed]",
      "text/plain": [
       "<Figure size 432x288 with 1 Axes>"
      ]
     },
     "metadata": {
      "needs_background": "light"
     },
     "output_type": "display_data"
    },
    {
     "name": "stdout",
     "output_type": "stream",
     "text": [
      "Prediction:  [5]\n",
      "Label:  5\n"
     ]
    },
    {
     "data": {
      "image/png": "[encoded data removed]",
      "text/plain": [
       "<Figure size 432x288 with 1 Axes>"
      ]
     },
     "metadata": {
      "needs_background": "light"
     },
     "output_type": "display_data"
    },
    {
     "name": "stdout",
     "output_type": "stream",
     "text": [
      "Prediction:  [1]\n",
      "Label:  1\n"
     ]
    },
    {
     "data": {
      "image/png": "[encoded data removed]",
      "text/plain": [
       "<Figure size 432x288 with 1 Axes>"
      ]
     },
     "metadata": {
      "needs_background": "light"
     },
     "output_type": "display_data"
    },
    {
     "name": "stdout",
     "output_type": "stream",
     "text": [
      "Prediction:  [9]\n",
      "Label:  5\n"
     ]
    },
    {
     "data": {
      "image/png": "[encoded data removed]",
      "text/plain": [
       "<Figure size 432x288 with 1 Axes>"
      ]
     },
     "metadata": {
      "needs_background": "light"
     },
     "output_type": "display_data"
    },
    {
     "name": "stdout",
     "output_type": "stream",
     "text": [
      "Prediction:  [3]\n",
      "Label:  3\n"
     ]
    },
    {
     "data": {
      "image/png": "[encoded data removed]",
      "text/plain": [
       "<Figure size 432x288 with 1 Axes>"
      ]
     },
     "metadata": {
      "needs_background": "light"
     },
     "output_type": "display_data"
    },
    {
     "name": "stdout",
     "output_type": "stream",
     "text": [
      "Prediction:  [5]\n",
      "Label:  5\n"
     ]
    },
    {
     "data": {
      "image/png": "[encoded data removed]",
      "text/plain": [
       "<Figure size 432x288 with 1 Axes>"
      ]
     },
     "metadata": {
      "needs_background": "light"
     },
     "output_type": "display_data"
    },
    {
     "name": "stdout",
     "output_type": "stream",
     "text": [
      "Prediction:  [1]\n",
      "Label:  1\n"
     ]
    },
    {
     "data": {
      "image/png": "[encoded data removed]",
      "text/plain": [
       "<Figure size 432x288 with 1 Axes>"
      ]
     },
     "metadata": {
      "needs_background": "light"
     },
     "output_type": "display_data"
    },
    {
     "name": "stdout",
     "output_type": "stream",
     "text": [
      "Prediction:  [9]\n",
      "Label:  5\n"
     ]
    },
    {
     "data": {
      "image/png": "[encoded data removed]",
      "text/plain": [
       "<Figure size 432x288 with 1 Axes>"
      ]
     },
     "metadata": {
      "needs_background": "light"
     },
     "output_type": "display_data"
    },
    {
     "name": "stdout",
     "output_type": "stream",
     "text": [
      "Prediction:  [3]\n",
      "Label:  3\n"
     ]
    },
    {
     "data": {
      "image/png": "[encoded data removed]",
      "text/plain": [
       "<Figure size 432x288 with 1 Axes>"
      ]
     },
     "metadata": {
      "needs_background": "light"
     },
     "output_type": "display_data"
    },
    {
     "name": "stdout",
     "output_type": "stream",
     "text": [
      "Prediction:  [5]\n",
      "Label:  5\n"
     ]
    },
    {
     "data": {
      "image/png": "[encoded data removed]",
      "text/plain": [
       "<Figure size 432x288 with 1 Axes>"
      ]
     },
     "metadata": {
      "needs_background": "light"
     },
     "output_type": "display_data"
    },
    {
     "name": "stdout",
     "output_type": "stream",
     "text": [
      "Prediction:  [1]\n",
      "Label:  1\n"
     ]
    },
    {
     "data": {
      "image/png": "[encoded data removed]",
      "text/plain": [
       "<Figure size 432x288 with 1 Axes>"
      ]
     },
     "metadata": {
      "needs_background": "light"
     },
     "output_type": "display_data"
    },
    {
     "name": "stdout",
     "output_type": "stream",
     "text": [
      "Prediction:  [9]\n",
      "Label:  5\n"
     ]
    },
    {
     "data": {
      "image/png": "[encoded data removed]",
      "text/plain": [
       "<Figure size 432x288 with 1 Axes>"
      ]
     },
     "metadata": {
      "needs_background": "light"
     },
     "output_type": "display_data"
    },
    {
     "name": "stdout",
     "output_type": "stream",
     "text": [
      "Prediction:  [3]\n",
      "Label:  3\n"
     ]
    },
    {
     "data": {
      "image/png": "[encoded data removed]",
      "text/plain": [
       "<Figure size 432x288 with 1 Axes>"
      ]
     },
     "metadata": {
      "needs_background": "light"
     },
     "output_type": "display_data"
    },
    {
     "name": "stdout",
     "output_type": "stream",
     "text": [
      "Prediction:  [5]\n",
      "Label:  5\n"
     ]
    },
    {
     "data": {
      "image/png": "[encoded data removed]",
      "text/plain": [
       "<Figure size 432x288 with 1 Axes>"
      ]
     },
     "metadata": {
      "needs_background": "light"
     },
     "output_type": "display_data"
    }
   ],
   "source": [
    "for i in range (10):\n",
    "    test_prediction(i, W1, b1, W2, b2)"
   ]
  },
  {
   "cell_type": "code",
   "execution_count": null,
   "id": "570855dc",
   "metadata": {},
   "outputs": [],
   "source": []
  }
 ],
 "metadata": {
  "kernelspec": {
   "display_name": "base",
   "language": "python",
   "name": "python3"
  },
  "language_info": {
   "codemirror_mode": {
    "name": "ipython",
    "version": 3
   },
   "file_extension": ".py",
   "mimetype": "text/x-python",
   "name": "python",
   "nbconvert_exporter": "python",
   "pygments_lexer": "ipython3",
   "version": "3.9.12"
  }
 },
 "nbformat": 4,
 "nbformat_minor": 5
}
